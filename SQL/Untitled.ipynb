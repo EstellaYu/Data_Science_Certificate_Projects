{
 "cells": [
  {
   "cell_type": "markdown",
   "metadata": {},
   "source": [
    "# SQL employee analysis"
   ]
  },
  {
   "cell_type": "code",
   "execution_count": 161,
   "metadata": {},
   "outputs": [],
   "source": [
    "from sqlalchemy import create_engine\n",
    "import pandas as pd\n",
    "import matplotlib.pyplot as plt\n",
    "import numpy as np"
   ]
  },
  {
   "cell_type": "code",
   "execution_count": null,
   "metadata": {},
   "outputs": [],
   "source": [
    "from sqlalchemy import create_engine \n",
    "# Postgres username, password, and database name \n",
    "POSTGRES_ADDRESS = 'localhost'\n",
    "POSTGRES_PORT = '5432' \n",
    "POSTGRES_USERNAME = 'postgres' ## CHANGE THIS TO YOUR PANOPLY/POSTGRES USERNAME\n",
    "POSTGRES_PASSWORD = input('Postgres Password: ') ## CHANGE THIS TO YOUR PANOPLY/POSTGRES PASSWORD \n",
    "POSTGRES_DBNAME = 'employee_analysis' ## CHANGE THIS TO YOUR DATABASE NAME \n",
    "# A long string that contains the necessary Postgres login information \n",
    "postgres_str = ('postgresql://{username}:{password}@{ipaddress}:{port}/{dbname}'\n",
    "                .format(username = POSTGRES_USERNAME, \n",
    "                        password = POSTGRES_PASSWORD, \n",
    "                        ipaddress= POSTGRES_ADDRESS, \n",
    "                        port     = POSTGRES_PORT,\n",
    "                        dbname   = POSTGRES_DBNAME))"
   ]
  },
  {
   "cell_type": "code",
   "execution_count": 46,
   "metadata": {},
   "outputs": [],
   "source": [
    "## 'postgresql://localhost:5432/employee_analysis'\n",
    "engine = create_engine(postgres_str)\n",
    "connection = engine.connect()"
   ]
  },
  {
   "cell_type": "markdown",
   "metadata": {},
   "source": [
    "## 1. Average Salary for All Entry Titles"
   ]
  },
  {
   "cell_type": "code",
   "execution_count": 127,
   "metadata": {
    "scrolled": true
   },
   "outputs": [
    {
     "data": {
      "text/html": [
       "<div>\n",
       "<style scoped>\n",
       "    .dataframe tbody tr th:only-of-type {\n",
       "        vertical-align: middle;\n",
       "    }\n",
       "\n",
       "    .dataframe tbody tr th {\n",
       "        vertical-align: top;\n",
       "    }\n",
       "\n",
       "    .dataframe thead th {\n",
       "        text-align: right;\n",
       "    }\n",
       "</style>\n",
       "<table border=\"1\" class=\"dataframe\">\n",
       "  <thead>\n",
       "    <tr style=\"text-align: right;\">\n",
       "      <th></th>\n",
       "      <th>emp_no</th>\n",
       "      <th>entry_title</th>\n",
       "      <th>entry_salary</th>\n",
       "    </tr>\n",
       "  </thead>\n",
       "  <tbody>\n",
       "    <tr>\n",
       "      <th>0</th>\n",
       "      <td>10001</td>\n",
       "      <td>Senior Engineer</td>\n",
       "      <td>60117.0</td>\n",
       "    </tr>\n",
       "    <tr>\n",
       "      <th>1</th>\n",
       "      <td>10002</td>\n",
       "      <td>Staff</td>\n",
       "      <td>65828.0</td>\n",
       "    </tr>\n",
       "    <tr>\n",
       "      <th>2</th>\n",
       "      <td>10003</td>\n",
       "      <td>Senior Engineer</td>\n",
       "      <td>40006.0</td>\n",
       "    </tr>\n",
       "    <tr>\n",
       "      <th>3</th>\n",
       "      <td>10004</td>\n",
       "      <td>Engineer</td>\n",
       "      <td>40054.0</td>\n",
       "    </tr>\n",
       "    <tr>\n",
       "      <th>4</th>\n",
       "      <td>10005</td>\n",
       "      <td>Staff</td>\n",
       "      <td>78228.0</td>\n",
       "    </tr>\n",
       "  </tbody>\n",
       "</table>\n",
       "</div>"
      ],
      "text/plain": [
       "   emp_no      entry_title  entry_salary\n",
       "0   10001  Senior Engineer       60117.0\n",
       "1   10002            Staff       65828.0\n",
       "2   10003  Senior Engineer       40006.0\n",
       "3   10004         Engineer       40054.0\n",
       "4   10005            Staff       78228.0"
      ]
     },
     "execution_count": 127,
     "metadata": {},
     "output_type": "execute_result"
    }
   ],
   "source": [
    "entry_salary_df = pd.read_sql_query(\n",
    "                    ''' \n",
    "                    SELECT title.emp_no, title.title AS entry_title, salaries.salary as entry_salary\n",
    "                    FROM \n",
    "                        (title INNER JOIN salaries ON salaries.emp_no = title.emp_no)\n",
    "                    WHERE salaries.from_date = title.from_date\n",
    "                    ORDER BY emp_no\n",
    "                    ''',connection)\n",
    "entry_salary_df['entry_salary'] = entry_salary_df['entry_salary'].apply(lambda x: x[1:].replace(\",\",'')).astype(float)\n",
    "entry_salary_df.head()"
   ]
  },
  {
   "cell_type": "code",
   "execution_count": 141,
   "metadata": {},
   "outputs": [
    {
     "data": {
      "text/plain": [
       "entry_title\n",
       "Assistant Engineer    48493.20\n",
       "Engineer              48547.81\n",
       "Manager               57290.78\n",
       "Senior Engineer       48425.34\n",
       "Senior Staff          58547.69\n",
       "Staff                 58465.50\n",
       "Technique Leader      48580.98\n",
       "Name: entry_salary, dtype: float64"
      ]
     },
     "execution_count": 141,
     "metadata": {},
     "output_type": "execute_result"
    }
   ],
   "source": [
    "average_salary = entry_salary_df.groupby('entry_title').mean()['entry_salary'].round(2)\n",
    "average_salary"
   ]
  },
  {
   "cell_type": "code",
   "execution_count": 222,
   "metadata": {},
   "outputs": [
    {
     "data": {
      "image/png": "[encoded data removed]",
      "text/plain": [
       "<Figure size 720x432 with 1 Axes>"
      ]
     },
     "metadata": {
      "needs_background": "light"
     },
     "output_type": "display_data"
    }
   ],
   "source": [
    "average_salary = average_salary.sort_values(ascending = False)\n",
    "\n",
    "\n",
    "x_array = np.arange(len(average_salary))\n",
    "\n",
    "plt.figure(figsize = (10,6))\n",
    "plt.barh(x_array, average_salary, 0.7)\n",
    "plt.yticks(x_array, average_salary.index)\n",
    "for x in x_array:\n",
    "    plt.text(average_salary[x] - 1.3e4, x-0.1, \"$ {:.2f}\".format(average_salary[x]), \n",
    "             color = 'w', weight = 'bold', fontsize = 15)\n",
    "\n",
    "plt.ylabel('Entry Title\\n', weight = 'bold', fontsize = 15)\n",
    "plt.title('Average Salary for All Entry Titles\\n', weight = 'bold', fontsize = 15)\n",
    "plt.tight_layout()\n",
    "plt.savefig('RESULT/average_salary_entry_titles.png')\n",
    "plt.show()"
   ]
  },
  {
   "cell_type": "code",
   "execution_count": null,
   "metadata": {},
   "outputs": [],
   "source": []
  }
 ],
 "metadata": {
  "kernelspec": {
   "display_name": "Python 3",
   "language": "python",
   "name": "python3"
  },
  "language_info": {
   "codemirror_mode": {
    "name": "ipython",
    "version": 3
   },
   "file_extension": ".py",
   "mimetype": "text/x-python",
   "name": "python",
   "nbconvert_exporter": "python",
   "pygments_lexer": "ipython3",
   "version": "3.7.3"
  }
 },
 "nbformat": 4,
 "nbformat_minor": 2
}
