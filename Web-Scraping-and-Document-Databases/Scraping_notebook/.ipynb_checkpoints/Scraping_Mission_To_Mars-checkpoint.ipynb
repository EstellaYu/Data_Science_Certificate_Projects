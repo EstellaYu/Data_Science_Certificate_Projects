{
 "cells": [
  {
   "cell_type": "markdown",
   "metadata": {},
   "source": [
    "# Mission to Mars Data Scraping"
   ]
  },
  {
   "cell_type": "markdown",
   "metadata": {},
   "source": [
    "## 1. Dependencies"
   ]
  },
  {
   "cell_type": "code",
   "execution_count": 1,
   "metadata": {},
   "outputs": [],
   "source": [
    "import pandas as pd\n",
    "from datetime import datetime as dt\n",
    "\n",
    "import pymongo\n",
    "\n",
    "from splinter import Browser\n",
    "import time\n",
    "from bs4 import BeautifulSoup as bs"
   ]
  },
  {
   "cell_type": "markdown",
   "metadata": {},
   "source": [
    "## 2. Scrap Data\n",
    "### 2.1 Launch Chrome Driver"
   ]
  },
  {
   "cell_type": "raw",
   "metadata": {},
   "source": [
    "# if you don't know where your chromedriver is...\n",
    "# get chromedriver location\n",
    "!which chromedriver"
   ]
  },
  {
   "cell_type": "code",
   "execution_count": 2,
   "metadata": {},
   "outputs": [],
   "source": [
    "# launch chromedriver -- get an empty page\n",
    "executable_path = {'executable_path': '/usr/local/bin/chromedriver'}\n",
    "browser = Browser('chrome', **executable_path, headless=False)"
   ]
  },
  {
   "cell_type": "markdown",
   "metadata": {},
   "source": [
    "### 2.2 Scrap `NASA Mars News Site` (https://mars.nasa.gov/news/)"
   ]
  },
  {
   "cell_type": "code",
   "execution_count": 3,
   "metadata": {},
   "outputs": [],
   "source": [
    "url_mars_news = 'https://mars.nasa.gov/news/'\n",
    "browser.visit(url_mars_news)\n",
    "time.sleep(2)"
   ]
  },
  {
   "cell_type": "code",
   "execution_count": 4,
   "metadata": {},
   "outputs": [],
   "source": [
    "# collect the latest News Title and Paragraph Text\n",
    "soup = bs(browser.html, 'html.parser')"
   ]
  },
  {
   "cell_type": "code",
   "execution_count": 5,
   "metadata": {},
   "outputs": [],
   "source": [
    "content = soup.body.find_all('li', class_='slide')\n",
    "\n",
    "news = []\n",
    "\n",
    "for cont in content:\n",
    "    # find article_title\n",
    "    title_div = cont.find('div', class_='content_title')\n",
    "    weblink = 'https://mars.nasa.gov' + title_div.a['href']\n",
    "    title = title_div.a.text.strip()\n",
    "    \n",
    "    # find article teaser (abstract)\n",
    "    abstract_div = cont.find('div', class_='article_teaser_body')\n",
    "    abstract = abstract_div.text\n",
    "    \n",
    "    # find article publish date\n",
    "    list_date = cont.find('div', class_='list_date')\n",
    "    date = dt.strptime(list_date.text, '%B %d, %Y')\n",
    "    \n",
    "    # built a dictionary\n",
    "    dict = {\"date\": date, \"title\": title, \"weblink\": weblink, \"abstract\": abstract}\n",
    "    \n",
    "    news.append(dict)"
   ]
  },
  {
   "cell_type": "code",
   "execution_count": 6,
   "metadata": {},
   "outputs": [
    {
     "name": "stdout",
     "output_type": "stream",
     "text": [
      "\n",
      "Example Scraped Content:\n",
      "---------------------------------\n",
      "\n",
      "{\n",
      "     date : 2019-08-05 00:00:00\n",
      "     title : NASA 'Optometrists' Verify Mars 2020 Rover's 20/20 Vision\n",
      "     weblink : https://mars.nasa.gov/news/8499/nasa-optometrists-verify-mars-2020-rovers-2020-vision/\n",
      "     abstract : Mars 2020 rover underwent an eye exam after several cameras were installed on the rover.\n",
      "}\n"
     ]
    }
   ],
   "source": [
    "# print an example from scraping\n",
    "print(\"\\nExample Scraped Content:\")\n",
    "print('---------------------------------')\n",
    "print(\"\\n{\")\n",
    "for key in news[0]:\n",
    "    print(\"    \", key, \":\", news[0][key])\n",
    "print(\"}\")   "
   ]
  },
  {
   "cell_type": "markdown",
   "metadata": {},
   "source": [
    "### 2.3 Scrap `JPL Mars Space Feature Images` (https://www.jpl.nasa.gov/spaceimages/?search=&category=Mars)"
   ]
  },
  {
   "cell_type": "code",
   "execution_count": 7,
   "metadata": {},
   "outputs": [],
   "source": [
    "# use the same browser (same tag) to visit another url\n",
    "url_jpl_img = 'https://www.jpl.nasa.gov/spaceimages/?search=&category=Mars'\n",
    "browser.visit(url_jpl_img)\n",
    "time.sleep(2)"
   ]
  },
  {
   "cell_type": "code",
   "execution_count": 8,
   "metadata": {},
   "outputs": [],
   "source": [
    "# collect the Feature Image HTML\n",
    "soup = bs(browser.html, 'html.parser')"
   ]
  },
  {
   "cell_type": "code",
   "execution_count": 9,
   "metadata": {},
   "outputs": [],
   "source": [
    "content = soup.body.find('section', class_='primary_media_feature').find('article', class_=\"carousel_item\")\n",
    "\n",
    "img_href = content['style'].split(\"url('\")[1].split(\"')\")[0]\n",
    "featured_image_url = 'https://www.jpl.nasa.gov' + img_href"
   ]
  },
  {
   "cell_type": "code",
   "execution_count": 10,
   "metadata": {},
   "outputs": [
    {
     "name": "stdout",
     "output_type": "stream",
     "text": [
      "\n",
      "Example Scraped Content:\n",
      "---------------------------------\n",
      "https://www.jpl.nasa.gov/spaceimages/images/wallpaper/PIA19180-1920x1200.jpg\n"
     ]
    }
   ],
   "source": [
    "# print an example from scraping\n",
    "print(\"\\nExample Scraped Content:\")\n",
    "print('---------------------------------')\n",
    "print(featured_image_url) "
   ]
  },
  {
   "cell_type": "markdown",
   "metadata": {},
   "source": [
    "### 2.4 Scrap `Mars Weather Twitter` (https://twitter.com/marswxreport?lang=en)"
   ]
  },
  {
   "cell_type": "code",
   "execution_count": 11,
   "metadata": {},
   "outputs": [],
   "source": [
    "# use the same browser (same tag) to visit another url\n",
    "url_mars_weather = 'https://twitter.com/marswxreport?lang=en'\n",
    "browser.visit(url_mars_weather)\n",
    "time.sleep(2)"
   ]
  },
  {
   "cell_type": "code",
   "execution_count": 12,
   "metadata": {},
   "outputs": [],
   "source": [
    "# collect the latest News Title and Paragraph Text\n",
    "soup = bs(browser.html, 'html.parser')"
   ]
  },
  {
   "cell_type": "code",
   "execution_count": 13,
   "metadata": {
    "scrolled": false
   },
   "outputs": [],
   "source": [
    "tweets = soup.body.find_all('li', class_='stream-item')"
   ]
  },
  {
   "cell_type": "code",
   "execution_count": 14,
   "metadata": {
    "scrolled": false
   },
   "outputs": [],
   "source": [
    "weather_post_by_MarsWxReport = []\n",
    "\n",
    "\n",
    "for tweet in tweets:\n",
    "    post = tweet.find('div', class_='tweet')\n",
    "    if post['data-screen-name'] == \"MarsWxReport\":\n",
    "        post_text = post.find('p', class_='tweet-text').text\n",
    "        if \"InSight sol\" in post_text:\n",
    "            weather_post_by_MarsWxReport.append(post_text.split('hPa')[0] + 'hPa')"
   ]
  },
  {
   "cell_type": "code",
   "execution_count": 15,
   "metadata": {},
   "outputs": [
    {
     "name": "stdout",
     "output_type": "stream",
     "text": [
      "\n",
      "Example Scraped Content:\n",
      "---------------------------------\n",
      "\n",
      "InSight sol 245 (2019-08-05) low -99.9ºC (-147.8ºF) high -25.6ºC (-14.1ºF)\n",
      "winds from the SSE at 4.6 m/s (10.2 mph) gusting to 17.7 m/s (39.5 mph)\n",
      "pressure at 7.60 hPa\n"
     ]
    }
   ],
   "source": [
    "# print an example from scraping\n",
    "print(\"\\nExample Scraped Content:\")\n",
    "print('---------------------------------\\n')\n",
    "\n",
    "print(weather_post_by_MarsWxReport[0])"
   ]
  },
  {
   "cell_type": "markdown",
   "metadata": {},
   "source": [
    "### 2.5 Scrap `Mars Fact` (https://space-facts.com/mars/)"
   ]
  },
  {
   "cell_type": "code",
   "execution_count": 16,
   "metadata": {},
   "outputs": [],
   "source": [
    "# use the same browser (same tag) to visit another url\n",
    "url_mars_fact = 'https://space-facts.com/mars/'\n",
    "browser.visit(url_mars_fact)\n",
    "time.sleep(2)"
   ]
  },
  {
   "cell_type": "code",
   "execution_count": 17,
   "metadata": {},
   "outputs": [
    {
     "data": {
      "text/html": [
       "<div>\n",
       "<style scoped>\n",
       "    .dataframe tbody tr th:only-of-type {\n",
       "        vertical-align: middle;\n",
       "    }\n",
       "\n",
       "    .dataframe tbody tr th {\n",
       "        vertical-align: top;\n",
       "    }\n",
       "\n",
       "    .dataframe thead th {\n",
       "        text-align: right;\n",
       "    }\n",
       "</style>\n",
       "<table border=\"1\" class=\"dataframe\">\n",
       "  <thead>\n",
       "    <tr style=\"text-align: right;\">\n",
       "      <th></th>\n",
       "      <th>Profile</th>\n",
       "      <th>Value</th>\n",
       "    </tr>\n",
       "  </thead>\n",
       "  <tbody>\n",
       "    <tr>\n",
       "      <th>0</th>\n",
       "      <td>Equatorial Diameter</td>\n",
       "      <td>6,792 km</td>\n",
       "    </tr>\n",
       "    <tr>\n",
       "      <th>1</th>\n",
       "      <td>Polar Diameter</td>\n",
       "      <td>6,752 km</td>\n",
       "    </tr>\n",
       "    <tr>\n",
       "      <th>2</th>\n",
       "      <td>Mass</td>\n",
       "      <td>6.39 × 10^23 kg (0.11 Earths)</td>\n",
       "    </tr>\n",
       "    <tr>\n",
       "      <th>3</th>\n",
       "      <td>Moons</td>\n",
       "      <td>2 (Phobos &amp; Deimos)</td>\n",
       "    </tr>\n",
       "    <tr>\n",
       "      <th>4</th>\n",
       "      <td>Orbit Distance</td>\n",
       "      <td>227,943,824 km (1.38 AU)</td>\n",
       "    </tr>\n",
       "    <tr>\n",
       "      <th>5</th>\n",
       "      <td>Orbit Period</td>\n",
       "      <td>687 days (1.9 years)</td>\n",
       "    </tr>\n",
       "    <tr>\n",
       "      <th>6</th>\n",
       "      <td>Surface Temperature</td>\n",
       "      <td>-87 to -5 °C</td>\n",
       "    </tr>\n",
       "    <tr>\n",
       "      <th>7</th>\n",
       "      <td>First Record</td>\n",
       "      <td>2nd millennium BC</td>\n",
       "    </tr>\n",
       "    <tr>\n",
       "      <th>8</th>\n",
       "      <td>Recorded By</td>\n",
       "      <td>Egyptian astronomers</td>\n",
       "    </tr>\n",
       "  </tbody>\n",
       "</table>\n",
       "</div>"
      ],
      "text/plain": [
       "               Profile                          Value\n",
       "0  Equatorial Diameter                       6,792 km\n",
       "1       Polar Diameter                       6,752 km\n",
       "2                 Mass  6.39 × 10^23 kg (0.11 Earths)\n",
       "3                Moons            2 (Phobos & Deimos)\n",
       "4       Orbit Distance       227,943,824 km (1.38 AU)\n",
       "5         Orbit Period           687 days (1.9 years)\n",
       "6  Surface Temperature                   -87 to -5 °C\n",
       "7         First Record              2nd millennium BC\n",
       "8          Recorded By           Egyptian astronomers"
      ]
     },
     "execution_count": 17,
     "metadata": {},
     "output_type": "execute_result"
    }
   ],
   "source": [
    "mars_fact = pd.read_html(browser.html)\n",
    "\n",
    "# get the MARS FACT table\n",
    "mars_fact_df = mars_fact[1]\n",
    "\n",
    "for i in range(len(mars_fact_df)):\n",
    "    mars_fact_df.iloc[i,0] = mars_fact_df.iloc[i,0][0:-1] # get rid of the \":\"\n",
    "\n",
    "mars_fact_df.columns = [\"Profile\", 'Value']\n",
    "#mars_fact_df.set_index('Profile', inplace = True)\n",
    "\n",
    "mars_fact_df"
   ]
  },
  {
   "cell_type": "raw",
   "metadata": {},
   "source": [
    "# mars_fact_df.to_html('mars_fact.html')"
   ]
  },
  {
   "cell_type": "code",
   "execution_count": 33,
   "metadata": {},
   "outputs": [
    {
     "name": "stdout",
     "output_type": "stream",
     "text": [
      "<table border=\"1\" class=\"table table-striped table-hover\">\n",
      "  <thead>\n",
      "    <tr style=\"text-align: right;\">\n",
      "      <th></th>\n",
      "      <th>Profile</th>\n",
      "      <th>Value</th>\n",
      "    </tr>\n",
      "  </thead>\n",
      "  <tbody>\n",
      "    <tr>\n",
      "      <th>0</th>\n",
      "      <td>Equatorial Diameter</td>\n",
      "      <td>6,792 km</td>\n",
      "    </tr>\n",
      "    <tr>\n",
      "      <th>1</th>\n",
      "      <td>Polar Diameter</td>\n",
      "      <td>6,752 km</td>\n",
      "    </tr>\n",
      "    <tr>\n",
      "      <th>2</th>\n",
      "      <td>Mass</td>\n",
      "      <td>6.39 × 10^23 kg (0.11 Earths)</td>\n",
      "    </tr>\n",
      "    <tr>\n",
      "      <th>3</th>\n",
      "      <td>Moons</td>\n",
      "      <td>2 (Phobos &amp; Deimos)</td>\n",
      "    </tr>\n",
      "    <tr>\n",
      "      <th>4</th>\n",
      "      <td>Orbit Distance</td>\n",
      "      <td>227,943,824 km (1.38 AU)</td>\n",
      "    </tr>\n",
      "    <tr>\n",
      "      <th>5</th>\n",
      "      <td>Orbit Period</td>\n",
      "      <td>687 days (1.9 years)</td>\n",
      "    </tr>\n",
      "    <tr>\n",
      "      <th>6</th>\n",
      "      <td>Surface Temperature</td>\n",
      "      <td>-87 to -5 °C</td>\n",
      "    </tr>\n",
      "    <tr>\n",
      "      <th>7</th>\n",
      "      <td>First Record</td>\n",
      "      <td>2nd millennium BC</td>\n",
      "    </tr>\n",
      "    <tr>\n",
      "      <th>8</th>\n",
      "      <td>Recorded By</td>\n",
      "      <td>Egyptian astronomers</td>\n",
      "    </tr>\n",
      "  </tbody>\n",
      "</table>\n"
     ]
    }
   ],
   "source": [
    "# !open mars_fact.html\n",
    "a = mars_fact_df.to_html()\n",
    "a = a.replace(\"dataframe\", \"table table-striped table-hover\")\n",
    "\n",
    "file = open('mars_fact.html', 'w')\n",
    "file.write(a)\n",
    "file.close()"
   ]
  },
  {
   "cell_type": "markdown",
   "metadata": {},
   "source": [
    "### 2.6 Scrap `USGS Astrogeology site` (https://astrogeology.usgs.gov/search/results?q=hemisphere+enhanced&k1=target&v1=Mars)"
   ]
  },
  {
   "cell_type": "code",
   "execution_count": 20,
   "metadata": {},
   "outputs": [],
   "source": [
    "# use the (same tag) to visit another url\n",
    "url_mars_hemisphere = 'https://astrogeology.usgs.gov/search/results?q=hemisphere+enhanced&k1=target&v1=Mars'\n",
    "browser.visit(url_mars_hemisphere)\n",
    "time.sleep(2)"
   ]
  },
  {
   "cell_type": "code",
   "execution_count": 21,
   "metadata": {},
   "outputs": [],
   "source": [
    "soup = bs(browser.html, 'html.parser')"
   ]
  },
  {
   "cell_type": "code",
   "execution_count": 22,
   "metadata": {},
   "outputs": [],
   "source": [
    "content_div = soup.body.find('div', class_='collapsible results').find_all('div',class_='item')"
   ]
  },
  {
   "cell_type": "code",
   "execution_count": 23,
   "metadata": {},
   "outputs": [],
   "source": [
    "hemisphere_image_urls = []\n",
    "\n",
    "for i in range(len(content_div)):    \n",
    "    title = content_div[i].find('h3').text\n",
    "    \n",
    "    # click the image title\n",
    "    browser.find_link_by_partial_text(title).first.click()\n",
    "    soup_find_img = bs(browser.html, 'html.parser')\n",
    "    img_url = soup_find_img.find('div', class_='downloads').find('a')['href']\n",
    "\n",
    "    # add to dictionary\n",
    "    img_dict = {\"title\": title, \"img_url\": img_url}\n",
    "    hemisphere_image_urls.append(img_dict)\n",
    "    \n",
    "    # roll back to the previous img\n",
    "    browser.back()"
   ]
  },
  {
   "cell_type": "code",
   "execution_count": 24,
   "metadata": {},
   "outputs": [
    {
     "name": "stdout",
     "output_type": "stream",
     "text": [
      "\n",
      "Example Scraped Content:\n",
      "---------------------------------\n",
      "\n",
      "{\n",
      "     title : Cerberus Hemisphere Enhanced\n",
      "     img_url : http://astropedia.astrogeology.usgs.gov/download/Mars/Viking/cerberus_enhanced.tif/full.jpg\n",
      "}\n"
     ]
    }
   ],
   "source": [
    "# print an example from scraping\n",
    "print(\"\\nExample Scraped Content:\")\n",
    "print('---------------------------------')\n",
    "print(\"\\n{\")\n",
    "for key in hemisphere_image_urls[0]:\n",
    "    print(\"    \", key, \":\", hemisphere_image_urls[0][key])\n",
    "print(\"}\")   "
   ]
  }
 ],
 "metadata": {
  "kernelspec": {
   "display_name": "Python 3",
   "language": "python",
   "name": "python3"
  },
  "language_info": {
   "codemirror_mode": {
    "name": "ipython",
    "version": 3
   },
   "file_extension": ".py",
   "mimetype": "text/x-python",
   "name": "python",
   "nbconvert_exporter": "python",
   "pygments_lexer": "ipython3",
   "version": "3.7.3"
  }
 },
 "nbformat": 4,
 "nbformat_minor": 2
}
