{
 "cells": [
  {
   "cell_type": "markdown",
   "metadata": {},
   "source": [
    "# A SQLAlchemy Analysis on Climate in Honolulu, Hawaii"
   ]
  },
  {
   "cell_type": "markdown",
   "metadata": {},
   "source": [
    "SQL | SQLite | SQLAlchemy | Pandas | Matplotlib |"
   ]
  },
  {
   "cell_type": "code",
   "execution_count": 1,
   "metadata": {},
   "outputs": [],
   "source": [
    "%matplotlib inline\n",
    "from matplotlib import style\n",
    "style.use('fivethirtyeight')\n",
    "import matplotlib.pyplot as plt"
   ]
  },
  {
   "cell_type": "code",
   "execution_count": 2,
   "metadata": {},
   "outputs": [],
   "source": [
    "import numpy as np\n",
    "import pandas as pd"
   ]
  },
  {
   "cell_type": "code",
   "execution_count": 3,
   "metadata": {},
   "outputs": [],
   "source": [
    "import datetime as dt"
   ]
  },
  {
   "cell_type": "markdown",
   "metadata": {},
   "source": [
    "# Data Exploration -- What's in the past?"
   ]
  },
  {
   "cell_type": "markdown",
   "metadata": {},
   "source": [
    "## 1.  Reflect SQLite DataBase into SQLAlchemy ORM"
   ]
  },
  {
   "cell_type": "code",
   "execution_count": 4,
   "metadata": {},
   "outputs": [],
   "source": [
    "# Python SQL toolkit and Object Relational Mapper\n",
    "import sqlalchemy\n",
    "from sqlalchemy.ext.automap import automap_base\n",
    "from sqlalchemy.orm import Session\n",
    "from sqlalchemy import create_engine, func, inspect"
   ]
  },
  {
   "cell_type": "code",
   "execution_count": 5,
   "metadata": {},
   "outputs": [],
   "source": [
    "engine = create_engine(\"sqlite:///Resources/hawaii.sqlite\")"
   ]
  },
  {
   "cell_type": "code",
   "execution_count": 6,
   "metadata": {},
   "outputs": [],
   "source": [
    "# reflect an existing database into a new model\n",
    "Base = automap_base()\n",
    "# reflect the tables\n",
    "Base.prepare(engine, reflect=True)"
   ]
  },
  {
   "cell_type": "code",
   "execution_count": 7,
   "metadata": {},
   "outputs": [],
   "source": [
    "inspector = inspect(engine)"
   ]
  },
  {
   "cell_type": "code",
   "execution_count": 8,
   "metadata": {},
   "outputs": [
    {
     "name": "stdout",
     "output_type": "stream",
     "text": [
      "['measurement', 'station']\n"
     ]
    }
   ],
   "source": [
    "# get Tables in the SQLite DataBase\n",
    "tables = inspector.get_table_names()\n",
    "# or using tables = Base.classes.keys()\n",
    "print(tables)"
   ]
  },
  {
   "cell_type": "code",
   "execution_count": 9,
   "metadata": {},
   "outputs": [],
   "source": [
    "# Save references to each table\n",
    "Measurement = Base.classes.measurement\n",
    "Station = Base.classes.station"
   ]
  },
  {
   "cell_type": "code",
   "execution_count": 10,
   "metadata": {},
   "outputs": [
    {
     "name": "stdout",
     "output_type": "stream",
     "text": [
      "Table:   Measurement\n",
      "---------------------\n",
      "id INTEGER\n",
      "station TEXT\n",
      "date TEXT\n",
      "prcp FLOAT\n",
      "tobs FLOAT\n",
      "\n",
      "Table:   Station\n",
      "---------------------\n",
      "id INTEGER\n",
      "station TEXT\n",
      "name TEXT\n",
      "latitude FLOAT\n",
      "longitude FLOAT\n",
      "elevation FLOAT\n",
      "\n"
     ]
    }
   ],
   "source": [
    "# obtain column details for each table \n",
    "# Table 'measurement'\n",
    "cols = inspector.get_columns('measurement')\n",
    "print(\"Table:   Measurement\\n---------------------\")\n",
    "for col in cols:\n",
    "    print(col['name'], col['type'])\n",
    "    \n",
    "# Table 'station'\n",
    "cols = inspector.get_columns('station')\n",
    "print(\"\\nTable:   Station\\n---------------------\")\n",
    "for col in cols:\n",
    "    print(col['name'], col['type'])\n",
    "    \n",
    "print()"
   ]
  },
  {
   "cell_type": "code",
   "execution_count": 11,
   "metadata": {},
   "outputs": [],
   "source": [
    "# Create our session (link) from Python to the DB\n",
    "session = Session(engine)"
   ]
  },
  {
   "cell_type": "markdown",
   "metadata": {},
   "source": [
    "## 2. Weather in the most recent year"
   ]
  },
  {
   "cell_type": "code",
   "execution_count": 12,
   "metadata": {},
   "outputs": [],
   "source": [
    "# a function that take a string of date and turn it into datetime\n",
    "def str_to_date(str_time):\n",
    "    return dt.datetime.strptime(str_time,'%Y-%m-%d').date()"
   ]
  },
  {
   "cell_type": "code",
   "execution_count": 13,
   "metadata": {},
   "outputs": [
    {
     "name": "stdout",
     "output_type": "stream",
     "text": [
      "There are 2792 days in total, without missing days.\n",
      "First date: 2010-01-01.\n",
      "Last date: 2017-08-23.\n"
     ]
    }
   ],
   "source": [
    "# Explore the days available in the Database\n",
    "all_dates = session.query(Measurement.date).group_by(Measurement.date).order_by(Measurement.date.desc()).all()\n",
    "all_dates = list(np.ravel(all_dates))\n",
    "first_date = str_to_date(all_dates[-1])\n",
    "last_date = str_to_date(all_dates[0])\n",
    "\n",
    "delta = last_date - first_date - dt.timedelta(days = len(all_dates) -1)\n",
    "if delta.days == 0:\n",
    "    str = 'without missing days.'\n",
    "else:\n",
    "    str = f'with {delta.days} days missing'\n",
    "\n",
    "print(f\"There are {len(all_dates)} days in total, {str}\")\n",
    "print(f\"First date: {first_date}.\")\n",
    "print(f\"Last date: {last_date}.\")"
   ]
  },
  {
   "cell_type": "code",
   "execution_count": 14,
   "metadata": {},
   "outputs": [
    {
     "name": "stdout",
     "output_type": "stream",
     "text": [
      "Dates analyzed: 2016-08-23 to 2017-08-23\n"
     ]
    }
   ],
   "source": [
    "# Calculate the date 1 year ago from the last data point in the database\n",
    "one_year_from_last_day = dt.date(last_date.year - 1, last_date.month, last_date.day)\n",
    "\n",
    "# Perform a query to retrieve the data and precipitation scores within the last year of record\n",
    "prcp = session.query(Measurement.date, func.avg(Measurement.prcp)).\\\n",
    "               filter(Measurement.date >= one_year_from_last_day).\\\n",
    "               filter(Measurement.date <= last_date).\\\n",
    "               group_by(Measurement.date).\\\n",
    "               order_by(Measurement.date).all()\n",
    "\n",
    "# print date range within analysis\n",
    "print(f\"Dates analyzed: {one_year_from_last_day} to {last_date}\")"
   ]
  },
  {
   "cell_type": "code",
   "execution_count": 15,
   "metadata": {
    "scrolled": true
   },
   "outputs": [
    {
     "data": {
      "text/html": [
       "<div>\n",
       "<style scoped>\n",
       "    .dataframe tbody tr th:only-of-type {\n",
       "        vertical-align: middle;\n",
       "    }\n",
       "\n",
       "    .dataframe tbody tr th {\n",
       "        vertical-align: top;\n",
       "    }\n",
       "\n",
       "    .dataframe thead th {\n",
       "        text-align: right;\n",
       "    }\n",
       "</style>\n",
       "<table border=\"1\" class=\"dataframe\">\n",
       "  <thead>\n",
       "    <tr style=\"text-align: right;\">\n",
       "      <th></th>\n",
       "      <th>average_precipitation</th>\n",
       "    </tr>\n",
       "    <tr>\n",
       "      <th>date</th>\n",
       "      <th></th>\n",
       "    </tr>\n",
       "  </thead>\n",
       "  <tbody>\n",
       "    <tr>\n",
       "      <th>2016-08-23</th>\n",
       "      <td>0.451667</td>\n",
       "    </tr>\n",
       "    <tr>\n",
       "      <th>2016-08-24</th>\n",
       "      <td>1.555000</td>\n",
       "    </tr>\n",
       "    <tr>\n",
       "      <th>2016-08-25</th>\n",
       "      <td>0.077143</td>\n",
       "    </tr>\n",
       "    <tr>\n",
       "      <th>2016-08-26</th>\n",
       "      <td>0.016667</td>\n",
       "    </tr>\n",
       "    <tr>\n",
       "      <th>2016-08-27</th>\n",
       "      <td>0.064000</td>\n",
       "    </tr>\n",
       "  </tbody>\n",
       "</table>\n",
       "</div>"
      ],
      "text/plain": [
       "            average_precipitation\n",
       "date                             \n",
       "2016-08-23               0.451667\n",
       "2016-08-24               1.555000\n",
       "2016-08-25               0.077143\n",
       "2016-08-26               0.016667\n",
       "2016-08-27               0.064000"
      ]
     },
     "execution_count": 15,
     "metadata": {},
     "output_type": "execute_result"
    }
   ],
   "source": [
    "# Save the query results as a Pandas DataFrame and set the index to the date column\n",
    "# Sort the dataframe by date\n",
    "prcp_df = pd.DataFrame(prcp, columns= ['date', 'average_precipitation'])\n",
    "prcp_df.set_index('date', inplace = True)\n",
    "prcp_df.head()"
   ]
  },
  {
   "cell_type": "code",
   "execution_count": 16,
   "metadata": {},
   "outputs": [],
   "source": [
    "list_prcp = list(prcp_df['average_precipitation'])\n",
    "mean_prcp = sum(list_prcp)/len(list_prcp) # annual average precipitation \n",
    "\n",
    "prcp_df_copy = prcp_df.copy().reset_index()\n",
    "date_list = list(prcp_df_copy['date'])\n",
    "mm = [x.split('-')[1] for x in date_list]\n",
    "prcp_df_copy['mm'] = mm\n",
    "\n",
    "bgc = [1] * len(mm)\n",
    "for i in range(1, len(mm)):\n",
    "    if mm[i] == mm[i-1]:\n",
    "        bgc[i] = bgc[i-1]\n",
    "    else:\n",
    "        bgc[i] = -bgc[i-1]\n",
    "        \n",
    "prcp_df_copy['bgc'] = bgc # set alternate background color based on month"
   ]
  },
  {
   "cell_type": "code",
   "execution_count": 17,
   "metadata": {},
   "outputs": [
    {
     "data": {
      "image/png": "[encoded data removed]",
      "text/plain": [
       "<Figure size 720x432 with 1 Axes>"
      ]
     },
     "metadata": {
      "needs_background": "light"
     },
     "output_type": "display_data"
    }
   ],
   "source": [
    "prcp_df.plot.bar(figsize = (10, 6),width = 1)\n",
    "plt.xticks([])\n",
    "plt.show()"
   ]
  },
  {
   "cell_type": "markdown",
   "metadata": {},
   "source": [
    "### That looks ok.. but let's get a more intuitive plot"
   ]
  },
  {
   "cell_type": "code",
   "execution_count": 18,
   "metadata": {},
   "outputs": [
    {
     "data": {
      "image/png": "[encoded data removed]",
      "text/plain": [
       "<Figure size 1440x576 with 1 Axes>"
      ]
     },
     "metadata": {
      "needs_background": "light"
     },
     "output_type": "display_data"
    }
   ],
   "source": [
    "# Plot daily precipitation as bar chart\n",
    "\n",
    "n = 1 # number of Sigma away from average\n",
    "\n",
    "x = np.arange(len(list_prcp[:]))\n",
    "y = np.array(list_prcp[:])\n",
    "\n",
    "dry = y < mean_prcp\n",
    "wet = (y >= mean_prcp) & (y < mean_prcp + n *  prcp_df['average_precipitation'].std())\n",
    "very_wet = y >= mean_prcp + n *  prcp_df['average_precipitation'].std()\n",
    "\n",
    "fig, ax = plt.subplots(figsize = (20, 8))\n",
    "plt.hlines(mean_prcp,x[0], x[-1], \n",
    "           linewidth = 1.5, \n",
    "           linestyles = '--', \n",
    "           color = 'r',\n",
    "           label = 'Average Precipitation')\n",
    "plt.hlines(mean_prcp + n* prcp_df['average_precipitation'].std(),x[0], x[-1], \n",
    "           linewidth = 1.5, \n",
    "           linestyles = '--', \n",
    "           color = 'b',\n",
    "           label = f'{n} Sigma from Average')\n",
    "\n",
    "plt.bar(x[dry], y[dry], color = 'r', width = 1, alpha = 0.5, label = 'Relative Dry')\n",
    "plt.bar(x[wet], y[wet], color = 'b', width = 1, alpha = 0.2, label = 'Light Rain')\n",
    "plt.bar(x[very_wet], y[very_wet], color = 'blue', width = 1, alpha = 0.8, label = f'Heavy Rain')\n",
    "\n",
    "ax.pcolorfast((-1, len(prcp_df[:])), ax.get_ylim(),\n",
    "              prcp_df_copy['bgc'][::-1].values[np.newaxis],\n",
    "              cmap='binary', alpha=0.05)\n",
    "ticks = [i if mm[i] != mm[i-1] else 0 for i in range(len(mm))]\n",
    "months = ['Aug', 'Sep', 'Oct', 'Nov','Dec','Jan', 'Feb','Mar','Apr','May','June','July','Aug']\n",
    "ticks = [10] + [tick + 30  for tick in ticks if tick != 0]\n",
    "adj = [0, 0, 0, 0, 0, 0, -2, 0, 0, 0,0, 0, -10]\n",
    "ax.set_xticks([ticks[i] +  adj[i] for i in range(len(ticks))])\n",
    "ax.set_xticklabels(months, fontsize = 20)\n",
    "ax.set_yticklabels(np.arange(-0, 2.52, 0.50),fontsize = 15)\n",
    "ax.text(3, -0.25, f\"{one_year_from_last_day.year}\", fontsize = 20)\n",
    "ax.text(154, -0.25, f'{last_date.year}', fontsize = 20)\n",
    "\n",
    "plt.xlim(-1, len(prcp_df[:]))\n",
    "plt.ylim(0, 2.5)\n",
    "plt.legend(fontsize = 20)\n",
    "plt.xlabel('\\nDates', fontsize = 30)\n",
    "plt.ylabel('Daily Precipitation\\n', fontsize= 28)\n",
    "plt.title(f'Daily Precipitatino from {one_year_from_last_day} to {last_date}\\n', fontsize = 30)\n",
    "\n",
    "plt.tight_layout()\n",
    "plt.savefig(\"Result/daily_precipitation.png\")\n",
    "plt.show()"
   ]
  },
  {
   "cell_type": "markdown",
   "metadata": {},
   "source": [
    "## 3. Summary weather statistics across all data"
   ]
  },
  {
   "cell_type": "code",
   "execution_count": 19,
   "metadata": {},
   "outputs": [],
   "source": [
    "all_prcp = session.query(Measurement.date, func.avg(Measurement.prcp)).\\\n",
    "               group_by(Measurement.date).\\\n",
    "               order_by(Measurement.date).all()"
   ]
  },
  {
   "cell_type": "code",
   "execution_count": 20,
   "metadata": {},
   "outputs": [
    {
     "data": {
      "text/html": [
       "<div>\n",
       "<style scoped>\n",
       "    .dataframe tbody tr th:only-of-type {\n",
       "        vertical-align: middle;\n",
       "    }\n",
       "\n",
       "    .dataframe tbody tr th {\n",
       "        vertical-align: top;\n",
       "    }\n",
       "\n",
       "    .dataframe thead th {\n",
       "        text-align: right;\n",
       "    }\n",
       "</style>\n",
       "<table border=\"1\" class=\"dataframe\">\n",
       "  <thead>\n",
       "    <tr style=\"text-align: right;\">\n",
       "      <th></th>\n",
       "      <th>precipitation</th>\n",
       "    </tr>\n",
       "  </thead>\n",
       "  <tbody>\n",
       "    <tr>\n",
       "      <th>count</th>\n",
       "      <td>2792.000000</td>\n",
       "    </tr>\n",
       "    <tr>\n",
       "      <th>mean</th>\n",
       "      <td>0.161962</td>\n",
       "    </tr>\n",
       "    <tr>\n",
       "      <th>std</th>\n",
       "      <td>0.345704</td>\n",
       "    </tr>\n",
       "    <tr>\n",
       "      <th>min</th>\n",
       "      <td>0.000000</td>\n",
       "    </tr>\n",
       "    <tr>\n",
       "      <th>25%</th>\n",
       "      <td>0.010000</td>\n",
       "    </tr>\n",
       "    <tr>\n",
       "      <th>50%</th>\n",
       "      <td>0.058333</td>\n",
       "    </tr>\n",
       "    <tr>\n",
       "      <th>75%</th>\n",
       "      <td>0.173571</td>\n",
       "    </tr>\n",
       "    <tr>\n",
       "      <th>max</th>\n",
       "      <td>5.970000</td>\n",
       "    </tr>\n",
       "  </tbody>\n",
       "</table>\n",
       "</div>"
      ],
      "text/plain": [
       "       precipitation\n",
       "count    2792.000000\n",
       "mean        0.161962\n",
       "std         0.345704\n",
       "min         0.000000\n",
       "25%         0.010000\n",
       "50%         0.058333\n",
       "75%         0.173571\n",
       "max         5.970000"
      ]
     },
     "execution_count": 20,
     "metadata": {},
     "output_type": "execute_result"
    }
   ],
   "source": [
    "# Use Pandas to calcualte the summary statistics for the precipitation data\n",
    "all_prcp_df = pd.DataFrame(all_prcp, columns=[\"dates\",'precipitation'])\n",
    "all_prcp_df.set_index('dates', inplace = True)\n",
    "all_prcp_df.describe()"
   ]
  },
  {
   "cell_type": "markdown",
   "metadata": {},
   "source": [
    "## 3. Weather Stations "
   ]
  },
  {
   "cell_type": "code",
   "execution_count": 21,
   "metadata": {},
   "outputs": [
    {
     "name": "stdout",
     "output_type": "stream",
     "text": [
      "Number of Stations: 9\n"
     ]
    }
   ],
   "source": [
    "# Design a query to show how many stations are available in this dataset?\n",
    "stations = session.query(Measurement.station).group_by(Measurement.station).all()\n",
    "print(f\"Number of Stations: {len(stations)}\")"
   ]
  },
  {
   "cell_type": "code",
   "execution_count": 22,
   "metadata": {},
   "outputs": [
    {
     "name": "stdout",
     "output_type": "stream",
     "text": [
      "The most active station:  USC00519281, with 2772 measurement records.\n",
      "\n"
     ]
    },
    {
     "data": {
      "text/plain": [
       "[('USC00519281', 2772),\n",
       " ('USC00519397', 2724),\n",
       " ('USC00513117', 2709),\n",
       " ('USC00519523', 2669),\n",
       " ('USC00516128', 2612),\n",
       " ('USC00514830', 2202),\n",
       " ('USC00511918', 1979),\n",
       " ('USC00517948', 1372),\n",
       " ('USC00518838', 511)]"
      ]
     },
     "execution_count": 22,
     "metadata": {},
     "output_type": "execute_result"
    }
   ],
   "source": [
    "# What are the most active stations? (i.e. what stations have the most rows)?\n",
    "# List the stations and the counts in descending order.\n",
    "station_measurements = session.query(Station.station, func.count(Measurement.id)).\\\n",
    "                               filter(Station.station == Measurement.station).\\\n",
    "                               group_by(Measurement.station).\\\n",
    "                               order_by(func.count(Measurement.id).desc()).all()\n",
    "\n",
    "most_active_station = station_measurements[0][0]\n",
    "most_active_station_measurements = station_measurements[0][1]\n",
    "print(f'''The most active station: \\\n",
    " {most_active_station}, with {most_active_station_measurements} measurement records.\\n''')\n",
    "\n",
    "station_measurements"
   ]
  },
  {
   "cell_type": "code",
   "execution_count": 23,
   "metadata": {},
   "outputs": [
    {
     "name": "stdout",
     "output_type": "stream",
     "text": [
      "\n",
      "Records at the most avtive station:\n",
      "------------------------------------\n",
      "\n",
      "Lowest temp  : 54.0 F\n",
      "Hightest temp: 85.0 F\n",
      "Average temp : 71.7 F\n"
     ]
    }
   ],
   "source": [
    "# Using the station id from the previous query, calculate:\n",
    "# 1. the lowest temperature recorded, \n",
    "# 2. highest temperature recorded, and \n",
    "# 3. average temperature most active station\n",
    "\n",
    "temp_at_station = session.query(func.min(Measurement.tobs), \n",
    "                                func.max(Measurement.tobs), \n",
    "                                func.avg(Measurement.tobs)).\\\n",
    "                          filter(Measurement.station == most_active_station).all()\n",
    "\n",
    "print(\"\\nRecords at the most avtive station:\")\n",
    "print(\"------------------------------------\\n\")\n",
    "print(f\"Lowest temp  : {temp_at_station[0][0]} F\")\n",
    "print(f\"Hightest temp: {temp_at_station[0][1]} F\")\n",
    "print(\"Average temp : {:.1f} F\".format(temp_at_station[0][2]))"
   ]
  },
  {
   "cell_type": "code",
   "execution_count": 24,
   "metadata": {},
   "outputs": [],
   "source": [
    "# Choose the station with the highest number of temperature observations.\n",
    "# Query the last 12 months of temperature observation data for this station and plot the results as a histogram\n",
    "temp_over_1_year = session.query(Measurement.tobs, Measurement.date).\\\n",
    "                           filter(Measurement.station == most_active_station).\\\n",
    "                           filter(Measurement.date > one_year_from_last_day).\\\n",
    "                           filter(Measurement.date <= last_date).\\\n",
    "                           order_by(Measurement.date).all()"
   ]
  },
  {
   "cell_type": "code",
   "execution_count": 25,
   "metadata": {},
   "outputs": [],
   "source": [
    "temp_over_1_year_df = pd.DataFrame(temp_over_1_year, columns=[\"temp\",'date'])\n",
    "\n",
    "# binning \n",
    "bin_width = 2\n",
    "min_temp = temp_over_1_year_df.temp.min()\n",
    "max_temp = temp_over_1_year_df.temp.max()\n",
    "bins = np.arange(min_temp // bin_width * bin_width , (max_temp//bin_width + 1)* bin_width, bin_width)\n",
    "label_name = [\"{}-{}\".format(bins[i-1], bins[i]) for i in range(1, len(bins))]\n",
    "temp_over_1_year_df['temp_range'] = pd.cut(temp_over_1_year_df['temp'],bins, labels = label_name)"
   ]
  },
  {
   "cell_type": "code",
   "execution_count": 26,
   "metadata": {},
   "outputs": [
    {
     "data": {
      "image/png": "[encoded data removed]",
      "text/plain": [
       "<Figure size 720x432 with 1 Axes>"
      ]
     },
     "metadata": {
      "needs_background": "light"
     },
     "output_type": "display_data"
    }
   ],
   "source": [
    "# group by frequency and plot as histogram\n",
    "temp_freq_df = temp_over_1_year_df.groupby('temp_range').count()['temp']\n",
    "ax = temp_freq_df.plot.bar(figsize = (10, 6), width = 0.9, label = 'temperature at the most active station')\n",
    "ax.set_xticklabels(label_name, rotation = 0)\n",
    "\n",
    "x = np.arange(len(label_name))\n",
    "for i in range(len(label_name)):\n",
    "    ax.text(i-0.1, temp_freq_df[i]+ 1, temp_freq_df[i], fontsize = 15, weight = \"bold\")\n",
    "plt.xlabel(\"\\nTemperature Range (F)\",fontsize = 15)\n",
    "plt.ylabel(\"Frequency\\n\",fontsize = 20)\n",
    "plt.legend(fontsize = 15)\n",
    "plt.tight_layout()\n",
    "plt.savefig(\"Result/temperature_frequency.png\")\n",
    "plt.show()"
   ]
  },
  {
   "cell_type": "markdown",
   "metadata": {},
   "source": [
    "# LET'S GO SURF! -- What will the weather be at my vacation? "
   ]
  },
  {
   "cell_type": "code",
   "execution_count": 27,
   "metadata": {},
   "outputs": [
    {
     "name": "stdout",
     "output_type": "stream",
     "text": [
      "[(62.0, 69.57142857142857, 74.0)]\n"
     ]
    }
   ],
   "source": [
    "# This function called `calc_temps` will accept start date and end date in the format '%Y-%m-%d' \n",
    "# and return the minimum, average, and maximum temperatures for that range of dates\n",
    "def calc_temps(start_date, end_date):\n",
    "    \"\"\"TMIN, TAVG, and TMAX for a list of dates.\n",
    "    \n",
    "    Args:\n",
    "        start_date (string): A date string in the format %Y-%m-%d\n",
    "        end_date (string): A date string in the format %Y-%m-%d\n",
    "        \n",
    "    Returns:\n",
    "        TMIN, TAVE, and TMAX\n",
    "    \"\"\"\n",
    "    \n",
    "    return session.query(func.min(Measurement.tobs), func.avg(Measurement.tobs), func.max(Measurement.tobs)).\\\n",
    "        filter(Measurement.date >= start_date).filter(Measurement.date <= end_date).all()\n",
    "\n",
    "# function usage example\n",
    "print(calc_temps('2012-02-28', '2012-03-05'))"
   ]
  },
  {
   "cell_type": "markdown",
   "metadata": {},
   "source": [
    "### Let's say our vacation is during Spring break -- (March 7th - 14th: 7days)"
   ]
  },
  {
   "cell_type": "code",
   "execution_count": 28,
   "metadata": {},
   "outputs": [
    {
     "name": "stdout",
     "output_type": "stream",
     "text": [
      "[(62.0, 70.68, 82.0)]\n"
     ]
    }
   ],
   "source": [
    "# Use your previous function `calc_temps` to calculate the tmin, tavg, and tmax \n",
    "# for your trip using the previous year's data for those same dates.\n",
    "start_date = dt.date(2017, 3, 7)\n",
    "duration = 7\n",
    "end_date = start_date + dt.timedelta(days = duration)\n",
    "\n",
    "print(calc_temps(start_date, end_date))"
   ]
  },
  {
   "cell_type": "markdown",
   "metadata": {},
   "source": [
    "## 1. Average Temperature"
   ]
  },
  {
   "cell_type": "code",
   "execution_count": 29,
   "metadata": {
    "scrolled": false
   },
   "outputs": [
    {
     "data": {
      "image/png": "[encoded data removed]",
      "text/plain": [
       "<Figure size 216x360 with 1 Axes>"
      ]
     },
     "metadata": {
      "needs_background": "light"
     },
     "output_type": "display_data"
    }
   ],
   "source": [
    "# Plot the results from your previous query as a bar chart. \n",
    "# Use \"Trip Avg Temp\" as Title\n",
    "# Use the average temperature for the y value\n",
    "# Use the peak-to-peak (tmax-tmin) value as the y error bar (yerr)\n",
    "\n",
    "[min_temp, avg_temp, max_temp] = calc_temps(start_date, end_date)[0]\n",
    "ax = plt.figure(figsize=(3, 5))\n",
    "plt.bar(0, avg_temp, alpha = 0.5, width = 0.5)\n",
    "plt.errorbar(0, avg_temp, yerr = avg_temp - min_temp, uplims=True, color = 'b')\n",
    "plt.errorbar(0, avg_temp, yerr = max_temp - avg_temp, lolims=True, color = 'r')\n",
    "\n",
    "plt.tick_params(\n",
    "    axis='x',          # changes apply to the x-axis\n",
    "    which='both',      # both major and minor ticks are affected\n",
    "    bottom=False,      # ticks along the bottom edge are off\n",
    "    top=False,         # ticks along the top edge are off\n",
    "    labelbottom=False) # labels along the bottom edge are off\n",
    "\n",
    "plt.title(\"Trip Avg Temp\\n\", fontsize = 15)\n",
    "plt.ylabel(\"Temperature (F)\\n\", fontsize = 15)\n",
    "plt.tight_layout()\n",
    "plt.savefig(\"Result/trip_temp.png\")\n",
    "plt.show()"
   ]
  },
  {
   "cell_type": "markdown",
   "metadata": {},
   "source": [
    "## 2. Total precipitation at each station during my surf trip"
   ]
  },
  {
   "cell_type": "code",
   "execution_count": 30,
   "metadata": {},
   "outputs": [],
   "source": [
    "# Calculate the total amount of rainfall per weather station for your trip dates using the previous year's matching dates.\n",
    "# Sort this in descending order by precipitation amount and list the station, name, latitude, longitude, and elevation\n",
    "rainfall = session.query(func.sum(Measurement.prcp), \n",
    "                         Measurement.station, \n",
    "                         Station.name, \n",
    "                         Station.latitude,\n",
    "                         Station.longitude,\n",
    "                         Station.elevation).\\\n",
    "                    filter(Measurement.station == Station.station).\\\n",
    "                    filter(Measurement.date >= start_date).\\\n",
    "                    filter(Measurement.date <= end_date).\\\n",
    "                    group_by(Measurement.station).\\\n",
    "                    order_by(func.sum(Measurement.prcp).desc()).all()"
   ]
  },
  {
   "cell_type": "code",
   "execution_count": 31,
   "metadata": {},
   "outputs": [
    {
     "data": {
      "text/html": [
       "<div>\n",
       "<style scoped>\n",
       "    .dataframe tbody tr th:only-of-type {\n",
       "        vertical-align: middle;\n",
       "    }\n",
       "\n",
       "    .dataframe tbody tr th {\n",
       "        vertical-align: top;\n",
       "    }\n",
       "\n",
       "    .dataframe thead th {\n",
       "        text-align: right;\n",
       "    }\n",
       "</style>\n",
       "<table border=\"1\" class=\"dataframe\">\n",
       "  <thead>\n",
       "    <tr style=\"text-align: right;\">\n",
       "      <th></th>\n",
       "      <th>total_precipitation</th>\n",
       "      <th>station_id</th>\n",
       "      <th>name</th>\n",
       "      <th>lat</th>\n",
       "      <th>lng</th>\n",
       "      <th>elevation</th>\n",
       "    </tr>\n",
       "  </thead>\n",
       "  <tbody>\n",
       "    <tr>\n",
       "      <th>0</th>\n",
       "      <td>0.96</td>\n",
       "      <td>USC00513117</td>\n",
       "      <td>KANEOHE 838.1, HI US</td>\n",
       "      <td>21.42340</td>\n",
       "      <td>-157.80150</td>\n",
       "      <td>14.6</td>\n",
       "    </tr>\n",
       "    <tr>\n",
       "      <th>1</th>\n",
       "      <td>0.69</td>\n",
       "      <td>USC00519281</td>\n",
       "      <td>WAIHEE 837.5, HI US</td>\n",
       "      <td>21.45167</td>\n",
       "      <td>-157.84889</td>\n",
       "      <td>32.9</td>\n",
       "    </tr>\n",
       "    <tr>\n",
       "      <th>2</th>\n",
       "      <td>0.63</td>\n",
       "      <td>USC00514830</td>\n",
       "      <td>KUALOA RANCH HEADQUARTERS 886.9, HI US</td>\n",
       "      <td>21.52130</td>\n",
       "      <td>-157.83740</td>\n",
       "      <td>7.0</td>\n",
       "    </tr>\n",
       "    <tr>\n",
       "      <th>3</th>\n",
       "      <td>0.06</td>\n",
       "      <td>USC00517948</td>\n",
       "      <td>PEARL CITY, HI US</td>\n",
       "      <td>21.39340</td>\n",
       "      <td>-157.97510</td>\n",
       "      <td>11.9</td>\n",
       "    </tr>\n",
       "    <tr>\n",
       "      <th>4</th>\n",
       "      <td>0.01</td>\n",
       "      <td>USC00516128</td>\n",
       "      <td>MANOA LYON ARBO 785.2, HI US</td>\n",
       "      <td>21.33310</td>\n",
       "      <td>-157.80250</td>\n",
       "      <td>152.4</td>\n",
       "    </tr>\n",
       "    <tr>\n",
       "      <th>5</th>\n",
       "      <td>0.00</td>\n",
       "      <td>USC00519397</td>\n",
       "      <td>WAIKIKI 717.2, HI US</td>\n",
       "      <td>21.27160</td>\n",
       "      <td>-157.81680</td>\n",
       "      <td>3.0</td>\n",
       "    </tr>\n",
       "    <tr>\n",
       "      <th>6</th>\n",
       "      <td>0.00</td>\n",
       "      <td>USC00519523</td>\n",
       "      <td>WAIMANALO EXPERIMENTAL FARM, HI US</td>\n",
       "      <td>21.33556</td>\n",
       "      <td>-157.71139</td>\n",
       "      <td>19.5</td>\n",
       "    </tr>\n",
       "  </tbody>\n",
       "</table>\n",
       "</div>"
      ],
      "text/plain": [
       "   total_precipitation   station_id                                    name  \\\n",
       "0                 0.96  USC00513117                    KANEOHE 838.1, HI US   \n",
       "1                 0.69  USC00519281                     WAIHEE 837.5, HI US   \n",
       "2                 0.63  USC00514830  KUALOA RANCH HEADQUARTERS 886.9, HI US   \n",
       "3                 0.06  USC00517948                       PEARL CITY, HI US   \n",
       "4                 0.01  USC00516128            MANOA LYON ARBO 785.2, HI US   \n",
       "5                 0.00  USC00519397                    WAIKIKI 717.2, HI US   \n",
       "6                 0.00  USC00519523      WAIMANALO EXPERIMENTAL FARM, HI US   \n",
       "\n",
       "        lat        lng  elevation  \n",
       "0  21.42340 -157.80150       14.6  \n",
       "1  21.45167 -157.84889       32.9  \n",
       "2  21.52130 -157.83740        7.0  \n",
       "3  21.39340 -157.97510       11.9  \n",
       "4  21.33310 -157.80250      152.4  \n",
       "5  21.27160 -157.81680        3.0  \n",
       "6  21.33556 -157.71139       19.5  "
      ]
     },
     "execution_count": 31,
     "metadata": {},
     "output_type": "execute_result"
    }
   ],
   "source": [
    "rainfall_df = pd.DataFrame(rainfall, columns=['total_precipitation', 'station_id','name','lat','lng','elevation'])\n",
    "rainfall_df"
   ]
  },
  {
   "cell_type": "markdown",
   "metadata": {},
   "source": [
    "## 3. Daily Temperature Prediction"
   ]
  },
  {
   "cell_type": "code",
   "execution_count": 32,
   "metadata": {},
   "outputs": [
    {
     "data": {
      "text/plain": [
       "[(62.0, 69.15384615384616, 77.0)]"
      ]
     },
     "execution_count": 32,
     "metadata": {},
     "output_type": "execute_result"
    }
   ],
   "source": [
    "# Create a query that will calculate the daily normals \n",
    "# (i.e. the averages for tmin, tmax, and tavg for all historic data matching a specific month and day)\n",
    "\n",
    "def daily_normals(date):\n",
    "    \"\"\"Daily Normals.\n",
    "    \n",
    "    Args:\n",
    "        date (str): A date string in the format '%m-%d'\n",
    "        \n",
    "    Returns:\n",
    "        A list of tuples containing the daily normals, tmin, tavg, and tmax\n",
    "    \n",
    "    \"\"\"\n",
    "    \n",
    "    sel = [func.min(Measurement.tobs), func.avg(Measurement.tobs), func.max(Measurement.tobs)]\n",
    "    return session.query(*sel).filter(func.strftime(\"%m-%d\", Measurement.date) == date).all()\n",
    "    \n",
    "daily_normals(\"01-01\")"
   ]
  },
  {
   "cell_type": "code",
   "execution_count": 33,
   "metadata": {},
   "outputs": [
    {
     "name": "stdout",
     "output_type": "stream",
     "text": [
      "start day: 2017-03-07\n",
      "end day  : 2017-03-14\n",
      "trip duration: 7\n"
     ]
    },
    {
     "data": {
      "text/plain": [
       "[(60.0, 69.17241379310344, 78.0),\n",
       " (59.0, 68.72413793103448, 78.0),\n",
       " (57.0, 68.56140350877193, 75.0),\n",
       " (57.0, 69.12280701754386, 75.0),\n",
       " (60.0, 69.89285714285714, 82.0),\n",
       " (62.0, 69.88888888888889, 80.0),\n",
       " (56.0, 69.29629629629629, 77.0)]"
      ]
     },
     "execution_count": 33,
     "metadata": {},
     "output_type": "execute_result"
    }
   ],
   "source": [
    "# calculate the daily normals for your trip\n",
    "# Set the start and end date of the trip\n",
    "print(f\"start day: {start_date}\")\n",
    "print(f\"end day  : {end_date}\")\n",
    "print(f\"trip duration: {duration}\")\n",
    "\n",
    "dates = [start_date + dt.timedelta(days = i) for i in range(duration)]\n",
    "# Loop through the list of %m-%d strings and calculate the normals for each date\n",
    "normal = []\n",
    "for i in range(duration):\n",
    "    day_normal = daily_normals(func.strftime(\"%m-%d\", start_date + dt.timedelta(days = i)))\n",
    "    normal.append(day_normal[0])\n",
    "normal"
   ]
  },
  {
   "cell_type": "code",
   "execution_count": 34,
   "metadata": {},
   "outputs": [
    {
     "data": {
      "text/html": [
       "<div>\n",
       "<style scoped>\n",
       "    .dataframe tbody tr th:only-of-type {\n",
       "        vertical-align: middle;\n",
       "    }\n",
       "\n",
       "    .dataframe tbody tr th {\n",
       "        vertical-align: top;\n",
       "    }\n",
       "\n",
       "    .dataframe thead th {\n",
       "        text-align: right;\n",
       "    }\n",
       "</style>\n",
       "<table border=\"1\" class=\"dataframe\">\n",
       "  <thead>\n",
       "    <tr style=\"text-align: right;\">\n",
       "      <th></th>\n",
       "      <th>tmin</th>\n",
       "      <th>tavg</th>\n",
       "      <th>tmax</th>\n",
       "    </tr>\n",
       "    <tr>\n",
       "      <th>date</th>\n",
       "      <th></th>\n",
       "      <th></th>\n",
       "      <th></th>\n",
       "    </tr>\n",
       "  </thead>\n",
       "  <tbody>\n",
       "    <tr>\n",
       "      <th>2017-03-07</th>\n",
       "      <td>60.0</td>\n",
       "      <td>69.172414</td>\n",
       "      <td>78.0</td>\n",
       "    </tr>\n",
       "    <tr>\n",
       "      <th>2017-03-08</th>\n",
       "      <td>59.0</td>\n",
       "      <td>68.724138</td>\n",
       "      <td>78.0</td>\n",
       "    </tr>\n",
       "    <tr>\n",
       "      <th>2017-03-09</th>\n",
       "      <td>57.0</td>\n",
       "      <td>68.561404</td>\n",
       "      <td>75.0</td>\n",
       "    </tr>\n",
       "    <tr>\n",
       "      <th>2017-03-10</th>\n",
       "      <td>57.0</td>\n",
       "      <td>69.122807</td>\n",
       "      <td>75.0</td>\n",
       "    </tr>\n",
       "    <tr>\n",
       "      <th>2017-03-11</th>\n",
       "      <td>60.0</td>\n",
       "      <td>69.892857</td>\n",
       "      <td>82.0</td>\n",
       "    </tr>\n",
       "    <tr>\n",
       "      <th>2017-03-12</th>\n",
       "      <td>62.0</td>\n",
       "      <td>69.888889</td>\n",
       "      <td>80.0</td>\n",
       "    </tr>\n",
       "    <tr>\n",
       "      <th>2017-03-13</th>\n",
       "      <td>56.0</td>\n",
       "      <td>69.296296</td>\n",
       "      <td>77.0</td>\n",
       "    </tr>\n",
       "  </tbody>\n",
       "</table>\n",
       "</div>"
      ],
      "text/plain": [
       "            tmin       tavg  tmax\n",
       "date                             \n",
       "2017-03-07  60.0  69.172414  78.0\n",
       "2017-03-08  59.0  68.724138  78.0\n",
       "2017-03-09  57.0  68.561404  75.0\n",
       "2017-03-10  57.0  69.122807  75.0\n",
       "2017-03-11  60.0  69.892857  82.0\n",
       "2017-03-12  62.0  69.888889  80.0\n",
       "2017-03-13  56.0  69.296296  77.0"
      ]
     },
     "execution_count": 34,
     "metadata": {},
     "output_type": "execute_result"
    }
   ],
   "source": [
    "# Load the previous query results into a Pandas DataFrame and add the `trip_dates` range as the `date` index\n",
    "normal_df = pd.DataFrame(normal ,columns=['tmin','tavg','tmax'])\n",
    "normal_df['date'] = dates\n",
    "normal_df.set_index('date', inplace = True)\n",
    "normal_df"
   ]
  },
  {
   "cell_type": "code",
   "execution_count": 35,
   "metadata": {},
   "outputs": [
    {
     "data": {
      "image/png": "[encoded data removed]",
      "text/plain": [
       "<Figure size 576x432 with 1 Axes>"
      ]
     },
     "metadata": {
      "needs_background": "light"
     },
     "output_type": "display_data"
    }
   ],
   "source": [
    "# Plot the daily normals as an area plot with `stacked=False`\n",
    "x = np.arange(duration)\n",
    "\n",
    "plt.figure(figsize=(8, 6))\n",
    "plt.plot(x, normal_df['tmin'], color= 'b', label = \"tmin\")\n",
    "plt.plot(x, normal_df['tavg'], color= 'y', label = \"tavg\")\n",
    "plt.plot(x, normal_df['tmax'], color= 'r', label = \"tmax\")\n",
    "plt.fill_between(x, normal_df['tmin'], color = 'b', alpha = 0.3)\n",
    "plt.fill_between(x, normal_df['tavg'],normal_df['tmin'], color = 'y', alpha = 0.3)\n",
    "plt.fill_between(x, normal_df['tmax'],normal_df['tavg'], color = 'r', alpha = 0.3)\n",
    "\n",
    "plt.xticks(x, dates, rotation = 60)\n",
    "plt.xlabel(\"\\nDates\", fontsize = 15)\n",
    "plt.ylabel('Temperature (F)\\n', fontsize = 15)\n",
    "plt.title(\"Temperature Prediction during the Trip\\n\", fontsize = 20)\n",
    "plt.legend(fontsize = 15)\n",
    "plt.xlim(x.min(), x.max())\n",
    "plt.ylim(0,normal_df['tmax'].max() + 5)\n",
    "plt.tight_layout()\n",
    "plt.savefig(\"Result/daily_temperature_during_trip.png\")\n",
    "plt.show()"
   ]
  },
  {
   "cell_type": "code",
   "execution_count": null,
   "metadata": {},
   "outputs": [],
   "source": []
  }
 ],
 "metadata": {
  "kernel_info": {
   "name": "python3"
  },
  "kernelspec": {
   "display_name": "Python 3",
   "language": "python",
   "name": "python3"
  },
  "language_info": {
   "codemirror_mode": {
    "name": "ipython",
    "version": 3
   },
   "file_extension": ".py",
   "mimetype": "text/x-python",
   "name": "python",
   "nbconvert_exporter": "python",
   "pygments_lexer": "ipython3",
   "version": "3.7.3"
  },
  "nteract": {
   "version": "0.12.3"
  },
  "varInspector": {
   "cols": {
    "lenName": 16,
    "lenType": 16,
    "lenVar": 40
   },
   "kernels_config": {
    "python": {
     "delete_cmd_postfix": "",
     "delete_cmd_prefix": "del ",
     "library": "var_list.py",
     "varRefreshCmd": "print(var_dic_list())"
    },
    "r": {
     "delete_cmd_postfix": ") ",
     "delete_cmd_prefix": "rm(",
     "library": "var_list.r",
     "varRefreshCmd": "cat(var_dic_list()) "
    }
   },
   "types_to_exclude": [
    "module",
    "function",
    "builtin_function_or_method",
    "instance",
    "_Feature"
   ],
   "window_display": false
  }
 },
 "nbformat": 4,
 "nbformat_minor": 2
}
